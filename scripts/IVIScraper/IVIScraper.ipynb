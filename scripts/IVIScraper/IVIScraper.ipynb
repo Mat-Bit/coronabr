{
 "cells": [
  {
   "cell_type": "code",
   "execution_count": 1,
   "metadata": {},
   "outputs": [],
   "source": [
    "# Importa as bibliotecas necessárias\n",
    "import wget\n",
    "import pandas as pd\n",
    "import json\n",
    "import datetime\n",
    "import os\n",
    "from pandas import json_normalize"
   ]
  },
  {
   "cell_type": "code",
   "execution_count": 2,
   "metadata": {},
   "outputs": [],
   "source": [
    "PASTA_TEMPORARIOS = '../../dados/temporarios/'\n",
    "PASTA_AUXILIARES = '../../dados/auxiliares/'\n",
    "PASTA_SAIDA = '../../dados/'"
   ]
  },
  {
   "cell_type": "code",
   "execution_count": 3,
   "metadata": {},
   "outputs": [],
   "source": [
    "# Define os dados para download\n",
    "url = 'http://plataforma.saude.gov.br/novocoronavirus/resources/scripts/database.js'\n",
    "arquivo = os.path.join(PASTA_TEMPORARIOS,'database.js')"
   ]
  },
  {
   "cell_type": "code",
   "execution_count": 4,
   "metadata": {},
   "outputs": [
    {
     "data": {
      "text/plain": [
       "'../../dados/temporarios/database.js'"
      ]
     },
     "execution_count": 4,
     "metadata": {},
     "output_type": "execute_result"
    }
   ],
   "source": [
    "# Baixa o arquivo JS\n",
    "wget.download(url, arquivo)"
   ]
  },
  {
   "cell_type": "code",
   "execution_count": 5,
   "metadata": {},
   "outputs": [],
   "source": [
    "# Converte o arquivo JavaScript para JSON\n",
    "base_js = open(arquivo, \"rt\")\n",
    "base_json = open(\n",
    "    os.path.join(PASTA_TEMPORARIOS,\"database.json\"),\n",
    "    \"wt\"\n",
    ")\n",
    "\n",
    "for line in base_js:\n",
    "\tbase_json.write(line.replace('var database=', ''))\n",
    "\n",
    "base_js.close()\n",
    "base_json.close()"
   ]
  },
  {
   "cell_type": "code",
   "execution_count": 6,
   "metadata": {},
   "outputs": [],
   "source": [
    "# Exporta o dataframe\n",
    "df = json.load(open(os.path.join(PASTA_TEMPORARIOS,\"database.json\")))\n",
    "df = json_normalize(data=df['brazil'], record_path='values',meta=['date','time'])"
   ]
  },
  {
   "cell_type": "code",
   "execution_count": 8,
   "metadata": {},
   "outputs": [],
   "source": [
    "# Carrega a tabela com IDs e estados\n",
    "indice = pd.read_csv(os.path.join(\n",
    "    PASTA_AUXILIARES,\n",
    "    'indice.csv'\n",
    "))\n",
    "\n",
    "# Transforma as IDs em string\n",
    "df.uid = df.uid.astype(str)\n",
    "indice.uid = indice.uid.astype(str)\n",
    "\n",
    "# Insere as UFs nos dados\n",
    "df = pd.merge(df, indice, on='uid', how='left')"
   ]
  },
  {
   "cell_type": "code",
   "execution_count": 9,
   "metadata": {},
   "outputs": [],
   "source": [
    "# Transforma números em inteiros\n",
    "dados_numericos = ['suspects', 'refuses', 'confirmado', 'deads','cases']\n",
    "\n",
    "for coluna in dados_numericos:\n",
    "    df[coluna] = df[coluna].fillna(0)\n",
    "    df[coluna] = df[coluna].astype(int)"
   ]
  },
  {
   "cell_type": "code",
   "execution_count": 11,
   "metadata": {},
   "outputs": [],
   "source": [
    "# Exporta a base em CSV\n",
    "dados = os.path.join(PASTA_SAIDA, 'corona_brasil' + '.csv')\n",
    "df.to_csv(dados, index = False)"
   ]
  }
 ],
 "metadata": {
  "kernelspec": {
   "display_name": "coronabr",
   "language": "python",
   "name": "coronabr"
  },
  "language_info": {
   "codemirror_mode": {
    "name": "ipython",
    "version": 3
   },
   "file_extension": ".py",
   "mimetype": "text/x-python",
   "name": "python",
   "nbconvert_exporter": "python",
   "pygments_lexer": "ipython3",
   "version": "3.7.6"
  }
 },
 "nbformat": 4,
 "nbformat_minor": 4
}
